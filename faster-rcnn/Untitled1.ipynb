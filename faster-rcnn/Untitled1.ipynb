{
 "cells": [
  {
   "cell_type": "code",
   "execution_count": 142,
   "metadata": {},
   "outputs": [
    {
     "data": {
      "text/plain": [
       "array([[ 0,  1,  2,  3,  4,  5],\n",
       "       [ 6,  7,  8,  9, 10, 11],\n",
       "       [12, 13, 14, 15, 16, 17],\n",
       "       [18, 19, 20, 21, 22, 23],\n",
       "       [24, 25, 26, 27, 28, 29],\n",
       "       [30, 31, 32, 33, 34, 35]])"
      ]
     },
     "execution_count": 142,
     "metadata": {},
     "output_type": "execute_result"
    }
   ],
   "source": [
    "a = np.arange(36)\n",
    "a.shape = (6,6)\n",
    "a"
   ]
  },
  {
   "cell_type": "code",
   "execution_count": 144,
   "metadata": {},
   "outputs": [
    {
     "data": {
      "text/plain": [
       "array([[ 0,  1,  2,  3],\n",
       "       [ 6,  7,  8,  9],\n",
       "       [12, 13, 14, 15],\n",
       "       [18, 19, 20, 21]])"
      ]
     },
     "execution_count": 144,
     "metadata": {},
     "output_type": "execute_result"
    }
   ],
   "source": [
    "a[0:4,0:4]"
   ]
  },
  {
   "cell_type": "code",
   "execution_count": 145,
   "metadata": {},
   "outputs": [
    {
     "data": {
      "text/plain": [
       "array([[ 0,  1,  2,  3,  4,  5],\n",
       "       [ 6,  7,  8,  9, 10, 11],\n",
       "       [12, 13, 14, 15, 16, 17],\n",
       "       [18, 19, 20, 21, 22, 23],\n",
       "       [24, 25, 26, 27, 28, 29],\n",
       "       [30, 31, 32, 33, 34, 35]])"
      ]
     },
     "execution_count": 145,
     "metadata": {},
     "output_type": "execute_result"
    }
   ],
   "source": [
    "a[0:6,0:6]"
   ]
  },
  {
   "cell_type": "code",
   "execution_count": 148,
   "metadata": {
    "scrolled": true
   },
   "outputs": [
    {
     "data": {
      "text/plain": [
       "<tf.Tensor 'map_31/TensorArrayStack/TensorArrayGatherV3:0' shape=(2, 2, 2) dtype=int32>"
      ]
     },
     "execution_count": 148,
     "metadata": {},
     "output_type": "execute_result"
    }
   ],
   "source": [
    "import tensorflow as tf\n",
    "\n",
    "x = tf.range(36)\n",
    "x = tf.reshape(x, (1,6,6,1))\n",
    "l = tf.Variable([[0,0,6,6],[0,0,4,4]])\n",
    "def fn(roi):\n",
    "    w_stride = (roi[2] - roi[0]) // 2\n",
    "    h_stride = (roi[3] - roi[1]) // 2    \n",
    "    roi_pool = []\n",
    "    for i in range(2):\n",
    "        h_start = roi[1] + i * h_stride\n",
    "        for j in range(2):\n",
    "            w_start = roi[0] + j * w_stride\n",
    "            val = tf.reduce_max(x[0, h_start:h_start+h_stride, w_start:w_start+w_stride, :])\n",
    "            roi_pool.append(val)\n",
    "    roi_pool = tf.reshape(tf.stack(roi_pool,axis=0), (2,2))\n",
    "    return roi_pool\n",
    "c = tf.map_fn(fn, l)\n",
    "c"
   ]
  },
  {
   "cell_type": "code",
   "execution_count": 149,
   "metadata": {},
   "outputs": [
    {
     "name": "stdout",
     "output_type": "stream",
     "text": [
      "[[[14 17]\n",
      "  [32 35]]\n",
      "\n",
      " [[ 7  9]\n",
      "  [19 21]]]\n"
     ]
    }
   ],
   "source": [
    "with tf.Session() as sess:\n",
    "    tf.global_variables_initializer().run()\n",
    "    sess.run(c)\n",
    "    print(c.eval())"
   ]
  },
  {
   "cell_type": "code",
   "execution_count": 161,
   "metadata": {},
   "outputs": [
    {
     "data": {
      "text/plain": [
       "<tf.Tensor 'map_38/TensorArrayStack/TensorArrayGatherV3:0' shape=(2, 2, 2, 1) dtype=int32>"
      ]
     },
     "execution_count": 161,
     "metadata": {},
     "output_type": "execute_result"
    }
   ],
   "source": [
    "import tensorflow as tf\n",
    "\n",
    "a = tf.range(36, dtype=tf.int32)\n",
    "a = tf.reshape(a, (1,6,6,1))\n",
    "b = tf.Variable([[0,0,6,6],[0,0,4,4]], dtype=tf.int32)\n",
    "def fn(roi):\n",
    "    roi_pool = tf.image.resize_images(a[0, roi[1]:roi[3], roi[0]:roi[2],:], [2,2])\n",
    "    return roi_pool\n",
    "c = tf.map_fn(fn, b)\n",
    "c"
   ]
  },
  {
   "cell_type": "code",
   "execution_count": 180,
   "metadata": {},
   "outputs": [
    {
     "name": "stdout",
     "output_type": "stream",
     "text": [
      "[[ 0.  3.]\n",
      " [18. 21.]]\n"
     ]
    }
   ],
   "source": [
    "c = tf.image.resize(x, [2,2])\n",
    "\n",
    "with tf.Session() as sess:\n",
    "    tf.global_variables_initializer().run()\n",
    "    sess.run(c)\n",
    "    print(c.eval()[0,:,:,0])"
   ]
  }
 ],
 "metadata": {
  "kernelspec": {
   "display_name": "tf",
   "language": "python",
   "name": "tf"
  }
 },
 "nbformat": 4,
 "nbformat_minor": 2
}
