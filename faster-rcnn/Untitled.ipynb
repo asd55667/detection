{
 "cells": [
  {
   "cell_type": "code",
   "execution_count": 1,
   "metadata": {
    "scrolled": false
   },
   "outputs": [
    {
     "name": "stderr",
     "output_type": "stream",
     "text": [
      "Using TensorFlow backend.\n"
     ]
    },
    {
     "name": "stdout",
     "output_type": "stream",
     "text": [
      "WARNING:tensorflow:From /home/wcw/anaconda3/envs/tf/lib/python3.6/site-packages/tensorflow/python/framework/op_def_library.py:263: colocate_with (from tensorflow.python.framework.ops) is deprecated and will be removed in a future version.\n",
      "Instructions for updating:\n",
      "Colocations handled automatically by placer.\n",
      "\n",
      " Pretrained layers\n",
      "block1_conv1\n",
      "block1_conv2\n",
      "block1_pool\n",
      "block2_conv1\n",
      "block2_conv2\n",
      "block2_pool\n",
      "block3_conv1\n",
      "block3_conv2\n",
      "block3_conv3\n",
      "block3_pool\n",
      "block4_conv1\n",
      "block4_conv2\n",
      "block4_conv3\n",
      "block4_pool\n",
      "block5_conv1\n",
      "block5_conv2\n",
      "block5_conv3\n",
      "block5_pool\n",
      "Trainable layers\n",
      "<keras.layers.convolutional.Conv2D object at 0x7f9b963cf7f0>\n",
      "<keras.layers.convolutional.Conv2D object at 0x7f9b963cf668>\n",
      "<keras.layers.convolutional.Conv2D object at 0x7f9b8c724978>\n",
      "<keras.layers.convolutional.Conv2D object at 0x7f9b8c6e6dd8>\n",
      "<keras.layers.convolutional.Conv2D object at 0x7f9b8c6941d0>\n",
      "<keras.layers.convolutional.Conv2D object at 0x7f9b8c6c9358>\n",
      "<keras.layers.convolutional.Conv2D object at 0x7f9b8c6629b0>\n",
      "<keras.layers.convolutional.Conv2D object at 0x7f9b8c681d68>\n",
      "<keras.layers.convolutional.Conv2D object at 0x7f9b8c634c50>\n",
      "<keras.layers.convolutional.Conv2D object at 0x7f9b8c64ef60>\n",
      "<keras.layers.convolutional.Conv2D object at 0x7f9b8c602630>\n",
      "<keras.layers.convolutional.Conv2D object at 0x7f9b8c5b34a8>\n",
      "<keras.layers.convolutional.Conv2D object at 0x7f9b8c5d1b70>\n",
      "<keras.engine.training.Model object at 0x7f9b8c3d05f8>\n",
      "<keras.layers.convolutional.Conv2D object at 0x7f9b878fff28>\n",
      "<keras.layers.normalization.BatchNormalization object at 0x7f9b74765be0>\n",
      "<keras.layers.convolutional.Conv2D object at 0x7f9b5809e320>\n",
      "<keras.layers.normalization.BatchNormalization object at 0x7f9b5047b198>\n",
      "<keras.layers.core.Dense object at 0x7f9b187906a0>\n",
      "<keras.layers.core.Dense object at 0x7f9b50245a58>\n"
     ]
    }
   ],
   "source": [
    "from faster_rcnn import FF_RCNN\n",
    "from generator import OIDGen, ValidationGen\n",
    "from cfg import cfg\n",
    "\n",
    "\n",
    "train_gen = OIDGen(json_file='split_1_annotation.json')\n",
    "val_gen = ValidationGen(json_file='validation_level_1.json')\n",
    "\n",
    "from keras.applications import VGG16        \n",
    "vgg16 = VGG16(include_top=False, )\n",
    "\n",
    "ff_rcnn = FF_RCNN(vgg16, cfg, mode='train')\n",
    "\n",
    "ff_rcnn.load_weights(pth='/media/wcw/TOSHIBA_X/OID/models/vgg16_weights_tf_dim_ordering_tf_kernels_notop.h5')"
   ]
  },
  {
   "cell_type": "code",
   "execution_count": null,
   "metadata": {
    "scrolled": false
   },
   "outputs": [
    {
     "name": "stdout",
     "output_type": "stream",
     "text": [
      "\n",
      "Starting at epoch 0. LR=1e-05\n",
      "\n",
      "Checkpoint Path: /media/wcw/TOSHIBA_X/OID/models/faster_rcnn20190919T1041/faster_rcnn_faster_rcnn_{epoch:04d}.h5\n",
      "WARNING:tensorflow:From /home/wcw/anaconda3/envs/tf/lib/python3.6/site-packages/tensorflow/python/ops/array_grad.py:425: to_int32 (from tensorflow.python.ops.math_ops) is deprecated and will be removed in a future version.\n",
      "Instructions for updating:\n",
      "Use tf.cast instead.\n",
      "Epoch 1/1\n"
     ]
    }
   ],
   "source": [
    "import warnings\n",
    "warnings.filterwarnings(\"ignore\")\n",
    "ff_rcnn.train(train_gen, val_gen, learning_rate=1e-5, epochs=1)"
   ]
  },
  {
   "cell_type": "code",
   "execution_count": null,
   "metadata": {},
   "outputs": [],
   "source": []
  }
 ],
 "metadata": {
  "kernelspec": {
   "display_name": "tf",
   "language": "python",
   "name": "tf"
  },
  "language_info": {
   "codemirror_mode": {
    "name": "ipython",
    "version": 3
   },
   "file_extension": ".py",
   "mimetype": "text/x-python",
   "name": "python",
   "nbconvert_exporter": "python",
   "pygments_lexer": "ipython3",
   "version": "3.6.7"
  }
 },
 "nbformat": 4,
 "nbformat_minor": 2
}
